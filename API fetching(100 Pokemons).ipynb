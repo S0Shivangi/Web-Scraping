{
 "cells": [
  {
   "cell_type": "markdown",
   "metadata": {},
   "source": [
    "###  Fetch name, url, height, weight and base experience of 100 pokemons"
   ]
  },
  {
   "cell_type": "code",
   "execution_count": 1,
   "metadata": {},
   "outputs": [
    {
     "name": "stdout",
     "output_type": "stream",
     "text": [
      "https://pokeapi.co/api/v2/pokemon/?offset=20&limit=20\n"
     ]
    }
   ],
   "source": [
    "import requests\n",
    "url3=\"https://pokeapi.co/api/v2/pokemon/\"\n",
    "res3=requests.get(url3)\n",
    "p=res3.json()\n",
    "r=p['next']\n",
    "print(r)"
   ]
  },
  {
   "cell_type": "code",
   "execution_count": 2,
   "metadata": {},
   "outputs": [
    {
     "name": "stdout",
     "output_type": "stream",
     "text": [
      "['https://pokeapi.co/api/v2/pokemon/?offset=0&limit=20', 'https://pokeapi.co/api/v2/pokemon/?offset=20&limit=20', 'https://pokeapi.co/api/v2/pokemon/?offset=40&limit=20', 'https://pokeapi.co/api/v2/pokemon/?offset=60&limit=20', 'https://pokeapi.co/api/v2/pokemon/?offset=80&limit=20']\n"
     ]
    }
   ],
   "source": [
    "s=[]\n",
    "# s.append(url3)\n",
    "#s.append(r)\n",
    "y=['offset=0','offset=20','offset=40','offset=60','offset=80']\n",
    "for i in y:\n",
    "    v=r.replace('offset=20',i)\n",
    "    s.append(v)\n",
    "print(s)"
   ]
  },
  {
   "cell_type": "code",
   "execution_count": 3,
   "metadata": {},
   "outputs": [
    {
     "name": "stdout",
     "output_type": "stream",
     "text": [
      "[{'name': 'bulbasaur', 'url': 'https://pokeapi.co/api/v2/pokemon/1/'}, {'name': 'ivysaur', 'url': 'https://pokeapi.co/api/v2/pokemon/2/'}, {'name': 'venusaur', 'url': 'https://pokeapi.co/api/v2/pokemon/3/'}, {'name': 'charmander', 'url': 'https://pokeapi.co/api/v2/pokemon/4/'}, {'name': 'charmeleon', 'url': 'https://pokeapi.co/api/v2/pokemon/5/'}, {'name': 'charizard', 'url': 'https://pokeapi.co/api/v2/pokemon/6/'}, {'name': 'squirtle', 'url': 'https://pokeapi.co/api/v2/pokemon/7/'}, {'name': 'wartortle', 'url': 'https://pokeapi.co/api/v2/pokemon/8/'}, {'name': 'blastoise', 'url': 'https://pokeapi.co/api/v2/pokemon/9/'}, {'name': 'caterpie', 'url': 'https://pokeapi.co/api/v2/pokemon/10/'}, {'name': 'metapod', 'url': 'https://pokeapi.co/api/v2/pokemon/11/'}, {'name': 'butterfree', 'url': 'https://pokeapi.co/api/v2/pokemon/12/'}, {'name': 'weedle', 'url': 'https://pokeapi.co/api/v2/pokemon/13/'}, {'name': 'kakuna', 'url': 'https://pokeapi.co/api/v2/pokemon/14/'}, {'name': 'beedrill', 'url': 'https://pokeapi.co/api/v2/pokemon/15/'}, {'name': 'pidgey', 'url': 'https://pokeapi.co/api/v2/pokemon/16/'}, {'name': 'pidgeotto', 'url': 'https://pokeapi.co/api/v2/pokemon/17/'}, {'name': 'pidgeot', 'url': 'https://pokeapi.co/api/v2/pokemon/18/'}, {'name': 'rattata', 'url': 'https://pokeapi.co/api/v2/pokemon/19/'}, {'name': 'raticate', 'url': 'https://pokeapi.co/api/v2/pokemon/20/'}, {'name': 'spearow', 'url': 'https://pokeapi.co/api/v2/pokemon/21/'}, {'name': 'fearow', 'url': 'https://pokeapi.co/api/v2/pokemon/22/'}, {'name': 'ekans', 'url': 'https://pokeapi.co/api/v2/pokemon/23/'}, {'name': 'arbok', 'url': 'https://pokeapi.co/api/v2/pokemon/24/'}, {'name': 'pikachu', 'url': 'https://pokeapi.co/api/v2/pokemon/25/'}, {'name': 'raichu', 'url': 'https://pokeapi.co/api/v2/pokemon/26/'}, {'name': 'sandshrew', 'url': 'https://pokeapi.co/api/v2/pokemon/27/'}, {'name': 'sandslash', 'url': 'https://pokeapi.co/api/v2/pokemon/28/'}, {'name': 'nidoran-f', 'url': 'https://pokeapi.co/api/v2/pokemon/29/'}, {'name': 'nidorina', 'url': 'https://pokeapi.co/api/v2/pokemon/30/'}, {'name': 'nidoqueen', 'url': 'https://pokeapi.co/api/v2/pokemon/31/'}, {'name': 'nidoran-m', 'url': 'https://pokeapi.co/api/v2/pokemon/32/'}, {'name': 'nidorino', 'url': 'https://pokeapi.co/api/v2/pokemon/33/'}, {'name': 'nidoking', 'url': 'https://pokeapi.co/api/v2/pokemon/34/'}, {'name': 'clefairy', 'url': 'https://pokeapi.co/api/v2/pokemon/35/'}, {'name': 'clefable', 'url': 'https://pokeapi.co/api/v2/pokemon/36/'}, {'name': 'vulpix', 'url': 'https://pokeapi.co/api/v2/pokemon/37/'}, {'name': 'ninetales', 'url': 'https://pokeapi.co/api/v2/pokemon/38/'}, {'name': 'jigglypuff', 'url': 'https://pokeapi.co/api/v2/pokemon/39/'}, {'name': 'wigglytuff', 'url': 'https://pokeapi.co/api/v2/pokemon/40/'}, {'name': 'zubat', 'url': 'https://pokeapi.co/api/v2/pokemon/41/'}, {'name': 'golbat', 'url': 'https://pokeapi.co/api/v2/pokemon/42/'}, {'name': 'oddish', 'url': 'https://pokeapi.co/api/v2/pokemon/43/'}, {'name': 'gloom', 'url': 'https://pokeapi.co/api/v2/pokemon/44/'}, {'name': 'vileplume', 'url': 'https://pokeapi.co/api/v2/pokemon/45/'}, {'name': 'paras', 'url': 'https://pokeapi.co/api/v2/pokemon/46/'}, {'name': 'parasect', 'url': 'https://pokeapi.co/api/v2/pokemon/47/'}, {'name': 'venonat', 'url': 'https://pokeapi.co/api/v2/pokemon/48/'}, {'name': 'venomoth', 'url': 'https://pokeapi.co/api/v2/pokemon/49/'}, {'name': 'diglett', 'url': 'https://pokeapi.co/api/v2/pokemon/50/'}, {'name': 'dugtrio', 'url': 'https://pokeapi.co/api/v2/pokemon/51/'}, {'name': 'meowth', 'url': 'https://pokeapi.co/api/v2/pokemon/52/'}, {'name': 'persian', 'url': 'https://pokeapi.co/api/v2/pokemon/53/'}, {'name': 'psyduck', 'url': 'https://pokeapi.co/api/v2/pokemon/54/'}, {'name': 'golduck', 'url': 'https://pokeapi.co/api/v2/pokemon/55/'}, {'name': 'mankey', 'url': 'https://pokeapi.co/api/v2/pokemon/56/'}, {'name': 'primeape', 'url': 'https://pokeapi.co/api/v2/pokemon/57/'}, {'name': 'growlithe', 'url': 'https://pokeapi.co/api/v2/pokemon/58/'}, {'name': 'arcanine', 'url': 'https://pokeapi.co/api/v2/pokemon/59/'}, {'name': 'poliwag', 'url': 'https://pokeapi.co/api/v2/pokemon/60/'}, {'name': 'poliwhirl', 'url': 'https://pokeapi.co/api/v2/pokemon/61/'}, {'name': 'poliwrath', 'url': 'https://pokeapi.co/api/v2/pokemon/62/'}, {'name': 'abra', 'url': 'https://pokeapi.co/api/v2/pokemon/63/'}, {'name': 'kadabra', 'url': 'https://pokeapi.co/api/v2/pokemon/64/'}, {'name': 'alakazam', 'url': 'https://pokeapi.co/api/v2/pokemon/65/'}, {'name': 'machop', 'url': 'https://pokeapi.co/api/v2/pokemon/66/'}, {'name': 'machoke', 'url': 'https://pokeapi.co/api/v2/pokemon/67/'}, {'name': 'machamp', 'url': 'https://pokeapi.co/api/v2/pokemon/68/'}, {'name': 'bellsprout', 'url': 'https://pokeapi.co/api/v2/pokemon/69/'}, {'name': 'weepinbell', 'url': 'https://pokeapi.co/api/v2/pokemon/70/'}, {'name': 'victreebel', 'url': 'https://pokeapi.co/api/v2/pokemon/71/'}, {'name': 'tentacool', 'url': 'https://pokeapi.co/api/v2/pokemon/72/'}, {'name': 'tentacruel', 'url': 'https://pokeapi.co/api/v2/pokemon/73/'}, {'name': 'geodude', 'url': 'https://pokeapi.co/api/v2/pokemon/74/'}, {'name': 'graveler', 'url': 'https://pokeapi.co/api/v2/pokemon/75/'}, {'name': 'golem', 'url': 'https://pokeapi.co/api/v2/pokemon/76/'}, {'name': 'ponyta', 'url': 'https://pokeapi.co/api/v2/pokemon/77/'}, {'name': 'rapidash', 'url': 'https://pokeapi.co/api/v2/pokemon/78/'}, {'name': 'slowpoke', 'url': 'https://pokeapi.co/api/v2/pokemon/79/'}, {'name': 'slowbro', 'url': 'https://pokeapi.co/api/v2/pokemon/80/'}, {'name': 'magnemite', 'url': 'https://pokeapi.co/api/v2/pokemon/81/'}, {'name': 'magneton', 'url': 'https://pokeapi.co/api/v2/pokemon/82/'}, {'name': 'farfetchd', 'url': 'https://pokeapi.co/api/v2/pokemon/83/'}, {'name': 'doduo', 'url': 'https://pokeapi.co/api/v2/pokemon/84/'}, {'name': 'dodrio', 'url': 'https://pokeapi.co/api/v2/pokemon/85/'}, {'name': 'seel', 'url': 'https://pokeapi.co/api/v2/pokemon/86/'}, {'name': 'dewgong', 'url': 'https://pokeapi.co/api/v2/pokemon/87/'}, {'name': 'grimer', 'url': 'https://pokeapi.co/api/v2/pokemon/88/'}, {'name': 'muk', 'url': 'https://pokeapi.co/api/v2/pokemon/89/'}, {'name': 'shellder', 'url': 'https://pokeapi.co/api/v2/pokemon/90/'}, {'name': 'cloyster', 'url': 'https://pokeapi.co/api/v2/pokemon/91/'}, {'name': 'gastly', 'url': 'https://pokeapi.co/api/v2/pokemon/92/'}, {'name': 'haunter', 'url': 'https://pokeapi.co/api/v2/pokemon/93/'}, {'name': 'gengar', 'url': 'https://pokeapi.co/api/v2/pokemon/94/'}, {'name': 'onix', 'url': 'https://pokeapi.co/api/v2/pokemon/95/'}, {'name': 'drowzee', 'url': 'https://pokeapi.co/api/v2/pokemon/96/'}, {'name': 'hypno', 'url': 'https://pokeapi.co/api/v2/pokemon/97/'}, {'name': 'krabby', 'url': 'https://pokeapi.co/api/v2/pokemon/98/'}, {'name': 'kingler', 'url': 'https://pokeapi.co/api/v2/pokemon/99/'}, {'name': 'voltorb', 'url': 'https://pokeapi.co/api/v2/pokemon/100/'}]\n"
     ]
    }
   ],
   "source": [
    "a=[]\n",
    "for i in s:\n",
    "    result=requests.get(i)\n",
    "    j=result.json()\n",
    "    a.extend(j['results'])\n",
    "print(a)"
   ]
  },
  {
   "cell_type": "code",
   "execution_count": 4,
   "metadata": {},
   "outputs": [
    {
     "name": "stdout",
     "output_type": "stream",
     "text": [
      "\u001b[1mName of pokemon:\u001b[0m ['bulbasaur', 'ivysaur', 'venusaur', 'charmander', 'charmeleon', 'charizard', 'squirtle', 'wartortle', 'blastoise', 'caterpie', 'metapod', 'butterfree', 'weedle', 'kakuna', 'beedrill', 'pidgey', 'pidgeotto', 'pidgeot', 'rattata', 'raticate', 'spearow', 'fearow', 'ekans', 'arbok', 'pikachu', 'raichu', 'sandshrew', 'sandslash', 'nidoran-f', 'nidorina', 'nidoqueen', 'nidoran-m', 'nidorino', 'nidoking', 'clefairy', 'clefable', 'vulpix', 'ninetales', 'jigglypuff', 'wigglytuff', 'zubat', 'golbat', 'oddish', 'gloom', 'vileplume', 'paras', 'parasect', 'venonat', 'venomoth', 'diglett', 'dugtrio', 'meowth', 'persian', 'psyduck', 'golduck', 'mankey', 'primeape', 'growlithe', 'arcanine', 'poliwag', 'poliwhirl', 'poliwrath', 'abra', 'kadabra', 'alakazam', 'machop', 'machoke', 'machamp', 'bellsprout', 'weepinbell', 'victreebel', 'tentacool', 'tentacruel', 'geodude', 'graveler', 'golem', 'ponyta', 'rapidash', 'slowpoke', 'slowbro', 'magnemite', 'magneton', 'farfetchd', 'doduo', 'dodrio', 'seel', 'dewgong', 'grimer', 'muk', 'shellder', 'cloyster', 'gastly', 'haunter', 'gengar', 'onix', 'drowzee', 'hypno', 'krabby', 'kingler', 'voltorb']\n",
      "\u001b[1mURL for the extended info of pokemon:\u001b[0m ['https://pokeapi.co/api/v2/pokemon/1/', 'https://pokeapi.co/api/v2/pokemon/2/', 'https://pokeapi.co/api/v2/pokemon/3/', 'https://pokeapi.co/api/v2/pokemon/4/', 'https://pokeapi.co/api/v2/pokemon/5/', 'https://pokeapi.co/api/v2/pokemon/6/', 'https://pokeapi.co/api/v2/pokemon/7/', 'https://pokeapi.co/api/v2/pokemon/8/', 'https://pokeapi.co/api/v2/pokemon/9/', 'https://pokeapi.co/api/v2/pokemon/10/', 'https://pokeapi.co/api/v2/pokemon/11/', 'https://pokeapi.co/api/v2/pokemon/12/', 'https://pokeapi.co/api/v2/pokemon/13/', 'https://pokeapi.co/api/v2/pokemon/14/', 'https://pokeapi.co/api/v2/pokemon/15/', 'https://pokeapi.co/api/v2/pokemon/16/', 'https://pokeapi.co/api/v2/pokemon/17/', 'https://pokeapi.co/api/v2/pokemon/18/', 'https://pokeapi.co/api/v2/pokemon/19/', 'https://pokeapi.co/api/v2/pokemon/20/', 'https://pokeapi.co/api/v2/pokemon/21/', 'https://pokeapi.co/api/v2/pokemon/22/', 'https://pokeapi.co/api/v2/pokemon/23/', 'https://pokeapi.co/api/v2/pokemon/24/', 'https://pokeapi.co/api/v2/pokemon/25/', 'https://pokeapi.co/api/v2/pokemon/26/', 'https://pokeapi.co/api/v2/pokemon/27/', 'https://pokeapi.co/api/v2/pokemon/28/', 'https://pokeapi.co/api/v2/pokemon/29/', 'https://pokeapi.co/api/v2/pokemon/30/', 'https://pokeapi.co/api/v2/pokemon/31/', 'https://pokeapi.co/api/v2/pokemon/32/', 'https://pokeapi.co/api/v2/pokemon/33/', 'https://pokeapi.co/api/v2/pokemon/34/', 'https://pokeapi.co/api/v2/pokemon/35/', 'https://pokeapi.co/api/v2/pokemon/36/', 'https://pokeapi.co/api/v2/pokemon/37/', 'https://pokeapi.co/api/v2/pokemon/38/', 'https://pokeapi.co/api/v2/pokemon/39/', 'https://pokeapi.co/api/v2/pokemon/40/', 'https://pokeapi.co/api/v2/pokemon/41/', 'https://pokeapi.co/api/v2/pokemon/42/', 'https://pokeapi.co/api/v2/pokemon/43/', 'https://pokeapi.co/api/v2/pokemon/44/', 'https://pokeapi.co/api/v2/pokemon/45/', 'https://pokeapi.co/api/v2/pokemon/46/', 'https://pokeapi.co/api/v2/pokemon/47/', 'https://pokeapi.co/api/v2/pokemon/48/', 'https://pokeapi.co/api/v2/pokemon/49/', 'https://pokeapi.co/api/v2/pokemon/50/', 'https://pokeapi.co/api/v2/pokemon/51/', 'https://pokeapi.co/api/v2/pokemon/52/', 'https://pokeapi.co/api/v2/pokemon/53/', 'https://pokeapi.co/api/v2/pokemon/54/', 'https://pokeapi.co/api/v2/pokemon/55/', 'https://pokeapi.co/api/v2/pokemon/56/', 'https://pokeapi.co/api/v2/pokemon/57/', 'https://pokeapi.co/api/v2/pokemon/58/', 'https://pokeapi.co/api/v2/pokemon/59/', 'https://pokeapi.co/api/v2/pokemon/60/', 'https://pokeapi.co/api/v2/pokemon/61/', 'https://pokeapi.co/api/v2/pokemon/62/', 'https://pokeapi.co/api/v2/pokemon/63/', 'https://pokeapi.co/api/v2/pokemon/64/', 'https://pokeapi.co/api/v2/pokemon/65/', 'https://pokeapi.co/api/v2/pokemon/66/', 'https://pokeapi.co/api/v2/pokemon/67/', 'https://pokeapi.co/api/v2/pokemon/68/', 'https://pokeapi.co/api/v2/pokemon/69/', 'https://pokeapi.co/api/v2/pokemon/70/', 'https://pokeapi.co/api/v2/pokemon/71/', 'https://pokeapi.co/api/v2/pokemon/72/', 'https://pokeapi.co/api/v2/pokemon/73/', 'https://pokeapi.co/api/v2/pokemon/74/', 'https://pokeapi.co/api/v2/pokemon/75/', 'https://pokeapi.co/api/v2/pokemon/76/', 'https://pokeapi.co/api/v2/pokemon/77/', 'https://pokeapi.co/api/v2/pokemon/78/', 'https://pokeapi.co/api/v2/pokemon/79/', 'https://pokeapi.co/api/v2/pokemon/80/', 'https://pokeapi.co/api/v2/pokemon/81/', 'https://pokeapi.co/api/v2/pokemon/82/', 'https://pokeapi.co/api/v2/pokemon/83/', 'https://pokeapi.co/api/v2/pokemon/84/', 'https://pokeapi.co/api/v2/pokemon/85/', 'https://pokeapi.co/api/v2/pokemon/86/', 'https://pokeapi.co/api/v2/pokemon/87/', 'https://pokeapi.co/api/v2/pokemon/88/', 'https://pokeapi.co/api/v2/pokemon/89/', 'https://pokeapi.co/api/v2/pokemon/90/', 'https://pokeapi.co/api/v2/pokemon/91/', 'https://pokeapi.co/api/v2/pokemon/92/', 'https://pokeapi.co/api/v2/pokemon/93/', 'https://pokeapi.co/api/v2/pokemon/94/', 'https://pokeapi.co/api/v2/pokemon/95/', 'https://pokeapi.co/api/v2/pokemon/96/', 'https://pokeapi.co/api/v2/pokemon/97/', 'https://pokeapi.co/api/v2/pokemon/98/', 'https://pokeapi.co/api/v2/pokemon/99/', 'https://pokeapi.co/api/v2/pokemon/100/']\n"
     ]
    }
   ],
   "source": [
    "u=[]\n",
    "url=[]\n",
    "name=[]\n",
    "for i in a:\n",
    "    for j in i:\n",
    "        u.append(i[j])\n",
    "name.extend(u[0:200:2])\n",
    "print('\\033[1mName of pokemon:\\033[0m',name)\n",
    "url.extend(u[1:200:2])\n",
    "print('\\033[1mURL for the extended info of pokemon:\\033[0m',url)\n"
   ]
  },
  {
   "cell_type": "code",
   "execution_count": 5,
   "metadata": {},
   "outputs": [
    {
     "name": "stdout",
     "output_type": "stream",
     "text": [
      "base_experience:[64, 142, 236, 62, 142, 240, 63, 142, 239, 39, 72, 178, 39, 72, 178, 50, 122, 216, 51, 145, 52, 155, 58, 157, 112, 218, 60, 158, 55, 128, 227, 55, 128, 227, 113, 217, 60, 177, 95, 196, 49, 159, 64, 138, 221, 57, 142, 61, 158, 53, 149, 58, 154, 64, 175, 61, 159, 70, 194, 60, 135, 230, 62, 140, 225, 61, 142, 227, 60, 137, 221, 67, 180, 60, 137, 223, 82, 175, 63, 172, 65, 163, 132, 62, 165, 65, 166, 65, 175, 61, 184, 62, 142, 225, 77, 66, 169, 65, 166, 66]\n",
      "height:[7, 10, 20, 6, 11, 17, 5, 10, 16, 3, 7, 11, 3, 6, 10, 3, 11, 15, 3, 7, 3, 12, 20, 35, 4, 8, 6, 10, 4, 8, 13, 5, 9, 14, 6, 13, 6, 11, 5, 10, 8, 16, 5, 8, 12, 3, 10, 10, 15, 2, 7, 4, 10, 8, 17, 5, 10, 7, 19, 6, 10, 13, 9, 13, 15, 8, 15, 16, 7, 10, 17, 9, 16, 4, 10, 14, 10, 17, 12, 16, 3, 10, 8, 14, 18, 11, 17, 9, 12, 3, 15, 13, 16, 15, 88, 10, 16, 4, 13, 5]\n",
      "weight:[69, 130, 1000, 85, 190, 905, 90, 225, 855, 29, 99, 320, 32, 100, 295, 18, 300, 395, 35, 185, 20, 380, 69, 650, 60, 300, 120, 295, 70, 200, 600, 90, 195, 620, 75, 400, 99, 199, 55, 120, 75, 550, 54, 86, 186, 54, 295, 300, 125, 8, 333, 42, 320, 196, 766, 280, 320, 190, 1550, 124, 200, 540, 195, 565, 480, 195, 705, 1300, 40, 64, 155, 455, 550, 200, 1050, 3000, 300, 950, 360, 785, 60, 600, 150, 392, 852, 900, 1200, 300, 300, 40, 1325, 1, 1, 405, 2100, 324, 756, 65, 600, 104]\n"
     ]
    }
   ],
   "source": [
    "base_experience=[]\n",
    "height=[]\n",
    "weight=[]\n",
    "for i in url:\n",
    "    res8=requests.get(i)\n",
    "    z=res8.json()\n",
    "    t=z['base_experience']\n",
    "    base_experience.append(t)\n",
    "    h=z['height']\n",
    "    height.append(h)\n",
    "    v=z['weight']\n",
    "    weight.append(v)\n",
    "print(f\"base_experience:{base_experience}\")\n",
    "print(f\"height:{height}\")\n",
    "print(f\"weight:{weight}\")"
   ]
  },
  {
   "cell_type": "code",
   "execution_count": 8,
   "metadata": {},
   "outputs": [],
   "source": [
    "import pandas as pd\n",
    "df=pd.DataFrame({'Name of Pokemons':name,'URL for the extended info of pokemons': url,'Height of pokemons':height, 'Weight of Pokemons':weight,'Base Experience':base_experience})"
   ]
  },
  {
   "cell_type": "code",
   "execution_count": 9,
   "metadata": {},
   "outputs": [
    {
     "data": {
      "text/html": [
       "<div>\n",
       "<style scoped>\n",
       "    .dataframe tbody tr th:only-of-type {\n",
       "        vertical-align: middle;\n",
       "    }\n",
       "\n",
       "    .dataframe tbody tr th {\n",
       "        vertical-align: top;\n",
       "    }\n",
       "\n",
       "    .dataframe thead th {\n",
       "        text-align: right;\n",
       "    }\n",
       "</style>\n",
       "<table border=\"1\" class=\"dataframe\">\n",
       "  <thead>\n",
       "    <tr style=\"text-align: right;\">\n",
       "      <th></th>\n",
       "      <th>Name of Pokemons</th>\n",
       "      <th>URL for the extended info of pokemons</th>\n",
       "      <th>Height of pokemons</th>\n",
       "      <th>Weight of Pokemons</th>\n",
       "      <th>Base Experience</th>\n",
       "    </tr>\n",
       "  </thead>\n",
       "  <tbody>\n",
       "    <tr>\n",
       "      <th>0</th>\n",
       "      <td>bulbasaur</td>\n",
       "      <td>https://pokeapi.co/api/v2/pokemon/1/</td>\n",
       "      <td>7</td>\n",
       "      <td>69</td>\n",
       "      <td>64</td>\n",
       "    </tr>\n",
       "    <tr>\n",
       "      <th>1</th>\n",
       "      <td>ivysaur</td>\n",
       "      <td>https://pokeapi.co/api/v2/pokemon/2/</td>\n",
       "      <td>10</td>\n",
       "      <td>130</td>\n",
       "      <td>142</td>\n",
       "    </tr>\n",
       "    <tr>\n",
       "      <th>2</th>\n",
       "      <td>venusaur</td>\n",
       "      <td>https://pokeapi.co/api/v2/pokemon/3/</td>\n",
       "      <td>20</td>\n",
       "      <td>1000</td>\n",
       "      <td>236</td>\n",
       "    </tr>\n",
       "    <tr>\n",
       "      <th>3</th>\n",
       "      <td>charmander</td>\n",
       "      <td>https://pokeapi.co/api/v2/pokemon/4/</td>\n",
       "      <td>6</td>\n",
       "      <td>85</td>\n",
       "      <td>62</td>\n",
       "    </tr>\n",
       "    <tr>\n",
       "      <th>4</th>\n",
       "      <td>charmeleon</td>\n",
       "      <td>https://pokeapi.co/api/v2/pokemon/5/</td>\n",
       "      <td>11</td>\n",
       "      <td>190</td>\n",
       "      <td>142</td>\n",
       "    </tr>\n",
       "    <tr>\n",
       "      <th>...</th>\n",
       "      <td>...</td>\n",
       "      <td>...</td>\n",
       "      <td>...</td>\n",
       "      <td>...</td>\n",
       "      <td>...</td>\n",
       "    </tr>\n",
       "    <tr>\n",
       "      <th>95</th>\n",
       "      <td>drowzee</td>\n",
       "      <td>https://pokeapi.co/api/v2/pokemon/96/</td>\n",
       "      <td>10</td>\n",
       "      <td>324</td>\n",
       "      <td>66</td>\n",
       "    </tr>\n",
       "    <tr>\n",
       "      <th>96</th>\n",
       "      <td>hypno</td>\n",
       "      <td>https://pokeapi.co/api/v2/pokemon/97/</td>\n",
       "      <td>16</td>\n",
       "      <td>756</td>\n",
       "      <td>169</td>\n",
       "    </tr>\n",
       "    <tr>\n",
       "      <th>97</th>\n",
       "      <td>krabby</td>\n",
       "      <td>https://pokeapi.co/api/v2/pokemon/98/</td>\n",
       "      <td>4</td>\n",
       "      <td>65</td>\n",
       "      <td>65</td>\n",
       "    </tr>\n",
       "    <tr>\n",
       "      <th>98</th>\n",
       "      <td>kingler</td>\n",
       "      <td>https://pokeapi.co/api/v2/pokemon/99/</td>\n",
       "      <td>13</td>\n",
       "      <td>600</td>\n",
       "      <td>166</td>\n",
       "    </tr>\n",
       "    <tr>\n",
       "      <th>99</th>\n",
       "      <td>voltorb</td>\n",
       "      <td>https://pokeapi.co/api/v2/pokemon/100/</td>\n",
       "      <td>5</td>\n",
       "      <td>104</td>\n",
       "      <td>66</td>\n",
       "    </tr>\n",
       "  </tbody>\n",
       "</table>\n",
       "<p>100 rows × 5 columns</p>\n",
       "</div>"
      ],
      "text/plain": [
       "   Name of Pokemons   URL for the extended info of pokemons  \\\n",
       "0         bulbasaur    https://pokeapi.co/api/v2/pokemon/1/   \n",
       "1           ivysaur    https://pokeapi.co/api/v2/pokemon/2/   \n",
       "2          venusaur    https://pokeapi.co/api/v2/pokemon/3/   \n",
       "3        charmander    https://pokeapi.co/api/v2/pokemon/4/   \n",
       "4        charmeleon    https://pokeapi.co/api/v2/pokemon/5/   \n",
       "..              ...                                     ...   \n",
       "95          drowzee   https://pokeapi.co/api/v2/pokemon/96/   \n",
       "96            hypno   https://pokeapi.co/api/v2/pokemon/97/   \n",
       "97           krabby   https://pokeapi.co/api/v2/pokemon/98/   \n",
       "98          kingler   https://pokeapi.co/api/v2/pokemon/99/   \n",
       "99          voltorb  https://pokeapi.co/api/v2/pokemon/100/   \n",
       "\n",
       "    Height of pokemons  Weight of Pokemons  Base Experience  \n",
       "0                    7                  69               64  \n",
       "1                   10                 130              142  \n",
       "2                   20                1000              236  \n",
       "3                    6                  85               62  \n",
       "4                   11                 190              142  \n",
       "..                 ...                 ...              ...  \n",
       "95                  10                 324               66  \n",
       "96                  16                 756              169  \n",
       "97                   4                  65               65  \n",
       "98                  13                 600              166  \n",
       "99                   5                 104               66  \n",
       "\n",
       "[100 rows x 5 columns]"
      ]
     },
     "execution_count": 9,
     "metadata": {},
     "output_type": "execute_result"
    }
   ],
   "source": [
    "df"
   ]
  },
  {
   "cell_type": "code",
   "execution_count": 10,
   "metadata": {},
   "outputs": [],
   "source": [
    "df.to_excel('Pokemon.xlsx')"
   ]
  },
  {
   "cell_type": "code",
   "execution_count": null,
   "metadata": {},
   "outputs": [],
   "source": []
  }
 ],
 "metadata": {
  "kernelspec": {
   "display_name": "Python 3",
   "language": "python",
   "name": "python3"
  },
  "language_info": {
   "codemirror_mode": {
    "name": "ipython",
    "version": 3
   },
   "file_extension": ".py",
   "mimetype": "text/x-python",
   "name": "python",
   "nbconvert_exporter": "python",
   "pygments_lexer": "ipython3",
   "version": "3.8.5"
  }
 },
 "nbformat": 4,
 "nbformat_minor": 4
}
